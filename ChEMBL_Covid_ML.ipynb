{
  "nbformat": 4,
  "nbformat_minor": 0,
  "metadata": {
    "colab": {
      "name": "ChEMBL_Covid_ML (2).ipynb",
      "provenance": [],
      "collapsed_sections": []
    },
    "kernelspec": {
      "name": "python3",
      "display_name": "Python 3"
    }
  },
  "cells": [
    {
      "cell_type": "code",
      "metadata": {
        "id": "AN7WODzKzRCF"
      },
      "source": [
        "\n",
        "! wget https://repo.anaconda.com/miniconda/Miniconda3-py37_4.8.2-Linux-x86_64.sh\n",
        "! chmod +x Miniconda3-py37_4.8.2-Linux-x86_64.sh\n",
        "! bash ./Miniconda3-py37_4.8.2-Linux-x86_64.sh -b -f -p /usr/local\n",
        "! conda install -c rdkit rdkit -y\n",
        "import sys\n",
        "sys.path.append('/usr/local/lib/python3.7/site-packages/')"
      ],
      "execution_count": null,
      "outputs": []
    },
    {
      "cell_type": "code",
      "metadata": {
        "id": "jD28pX_pzTHq"
      },
      "source": [
        "import numpy as np\n",
        "import os\n",
        "import pandas as pd\n",
        "import rdkit.Chem.Descriptors\n",
        "from rdkit import Chem \n",
        "import array as arr"
      ],
      "execution_count": null,
      "outputs": []
    },
    {
      "cell_type": "code",
      "metadata": {
        "id": "gGJzvr1n0qhF"
      },
      "source": [
        "os.getcwd()"
      ],
      "execution_count": null,
      "outputs": []
    },
    {
      "cell_type": "code",
      "metadata": {
        "id": "uUKNx-gE0t3B"
      },
      "source": [
        "df = pd.read_csv(\"bioactivity_data_preprocessed (3).csv\")\n",
        "df.head()"
      ],
      "execution_count": null,
      "outputs": []
    },
    {
      "cell_type": "markdown",
      "metadata": {
        "id": "g2ZbdTDrEkpJ"
      },
      "source": [
        "#For some reason, running the following cell gives an error, but ends up running successfully. Kindly ignore the Warning/Error. "
      ]
    },
    {
      "cell_type": "code",
      "metadata": {
        "id": "EDY-u3-G1HI5"
      },
      "source": [
        "df['F1']=np.NaN\n",
        "df['F2']=np.NaN\n",
        "df['F3']=np.NaN\n",
        "df['F4']=np.NaN\n",
        "for i in df.index:\n",
        "    df['F1'][i]=Chem.Descriptors.MinPartialCharge(Chem.MolFromSmiles(df['canonical_smiles'][i]))\n",
        "    df['F2'][i]=Chem.Descriptors.MaxPartialCharge(Chem.MolFromSmiles(df['canonical_smiles'][i]))\n",
        "    df['F3'][i]=Chem.Descriptors.MolLogP(Chem.MolFromSmiles(df['canonical_smiles'][i]))\n",
        "    df['F4'][i]=Chem.Descriptors.ExactMolWt(Chem.MolFromSmiles(df['canonical_smiles'][i]))"
      ],
      "execution_count": null,
      "outputs": []
    },
    {
      "cell_type": "code",
      "metadata": {
        "id": "Vovqcqni1LXO"
      },
      "source": [
        "df.dropna()"
      ],
      "execution_count": null,
      "outputs": []
    },
    {
      "cell_type": "code",
      "metadata": {
        "id": "YlHXOg5h2niC"
      },
      "source": [
        "import pandas as pd\n",
        "from sklearn import preprocessing\n",
        "cols = df.select_dtypes([np.int64,np.float64]).columns\n",
        "cols=['F1','F2', 'F3', 'F4','standard_value']\n",
        "x = df[cols].values \n",
        "min_max_scaler = preprocessing.MinMaxScaler()\n",
        "x_scaled = min_max_scaler.fit_transform(x)\n",
        "df1 = pd.DataFrame(x_scaled)\n",
        "df1.dropna(inplace=True)\n",
        "print(df1)"
      ],
      "execution_count": null,
      "outputs": []
    },
    {
      "cell_type": "code",
      "metadata": {
        "id": "UORrlLtPTJfl"
      },
      "source": [
        "sns.set_theme(color_codes=True)\n",
        "sns.color_palette(\"rocket\", as_cmap=True)"
      ],
      "execution_count": null,
      "outputs": []
    },
    {
      "cell_type": "code",
      "metadata": {
        "id": "eGUXcMidQV-3"
      },
      "source": [
        "import seaborn as sns\n",
        "import matplotlib.pyplot as plt"
      ],
      "execution_count": null,
      "outputs": []
    },
    {
      "cell_type": "code",
      "metadata": {
        "id": "BbNB7U6kTjcS"
      },
      "source": [
        "corr = df.corr()\n",
        "sns.heatmap(corr, xticklabels=corr.columns, yticklabels=corr.columns)\n"
      ],
      "execution_count": null,
      "outputs": []
    },
    {
      "cell_type": "code",
      "metadata": {
        "id": "Ym9QO7ktTQr7"
      },
      "source": [
        "sns.pairplot(df, kind=\"reg\")\n",
        "plt.show()\n",
        "\n"
      ],
      "execution_count": null,
      "outputs": []
    },
    {
      "cell_type": "code",
      "metadata": {
        "id": "CKNXTYl0WD_o"
      },
      "source": [
        "sns.pairplot(df1, diag_kind=\"hist\")\n"
      ],
      "execution_count": null,
      "outputs": []
    },
    {
      "cell_type": "code",
      "metadata": {
        "id": "RT_90jCiaXdc"
      },
      "source": [
        "sns.pairplot(df, diag_kind=\"kde\")"
      ],
      "execution_count": null,
      "outputs": []
    },
    {
      "cell_type": "code",
      "metadata": {
        "id": "pjHmIVJ43yJg"
      },
      "source": [
        "X = np.asarray(df1[[0, 1 ,2 ,3]])\n",
        "Y = np.asarray(df1[4])"
      ],
      "execution_count": null,
      "outputs": []
    },
    {
      "cell_type": "code",
      "metadata": {
        "id": "ktl_RCQz740M"
      },
      "source": [
        "import numpy as np\n",
        "from sklearn.model_selection          import train_test_split\n",
        "from sklearn                          import metrics, svm\n",
        "from sklearn.linear_model             import LinearRegression\n",
        "from sklearn.linear_model             import LogisticRegression\n",
        "from sklearn.tree                     import DecisionTreeClassifier\n",
        "from sklearn.neighbors                import KNeighborsRegressor\n",
        "from sklearn.discriminant_analysis    import LinearDiscriminantAnalysis\n",
        "from sklearn.naive_bayes              import GaussianNB\n",
        "from sklearn.svm                      import SVC\n",
        "from sklearn.ensemble                 import RandomForestRegressor\n",
        "from sklearn.linear_model             import SGDRegressor\n",
        "from sklearn.gaussian_process         import GaussianProcessRegressor\n",
        "from sklearn.gaussian_process.kernels import DotProduct, WhiteKernel\n",
        "from sklearn.tree                     import DecisionTreeRegressor\n",
        "from sklearn.ensemble                 import GradientBoostingRegressor\n",
        "from sklearn.ensemble                 import VotingRegressor\n",
        "from sklearn.multioutput              import MultiOutputRegressor\n",
        "from sklearn.linear_model             import Ridge"
      ],
      "execution_count": null,
      "outputs": []
    },
    {
      "cell_type": "code",
      "metadata": {
        "id": "ktym7MblByQJ"
      },
      "source": [
        "X_train, X_test, y_train, y_test = train_test_split(X, Y, test_size=0.10, random_state=46)\n",
        "RFR = RandomForestRegressor(random_state=92)\n",
        "RFR.fit(X_train, y_train)\n",
        "print(RFR.score(X_test, y_test))"
      ],
      "execution_count": null,
      "outputs": []
    },
    {
      "cell_type": "code",
      "metadata": {
        "id": "F2f2NqUbAwpQ"
      },
      "source": [
        " X_train, X_test, y_train, y_test = train_test_split(X, Y, test_size=0.10, random_state=46)\n",
        "GBR = GradientBoostingRegressor(random_state=14, n_estimators=1000)\n",
        "GBR.fit(X_train, y_train)\n",
        "print(GBR.score(X_test, y_test))"
      ],
      "execution_count": null,
      "outputs": []
    },
    {
      "cell_type": "code",
      "metadata": {
        "id": "UsPfSOODFcZ8"
      },
      "source": [
        "X_train, X_test, y_train, y_test = train_test_split(X, Y, test_size=0.10, random_state=86)\n",
        "KNR = KNeighborsRegressor(1)\n",
        "KNR.fit(X_train, y_train)\n",
        "print(KNR.score(X_test, y_test))"
      ],
      "execution_count": null,
      "outputs": []
    },
    {
      "cell_type": "code",
      "metadata": {
        "id": "KhGrhPCcGJ0q"
      },
      "source": [
        "VR = VotingRegressor(estimators=[('GBR', GBR), ('KNR', KNR), ('RFR', RFR)])\n",
        "VR.fit(X_train, y_train)\n",
        "print(\"Voting Regressor\")\n",
        "print(VR.score(X_test, y_test))"
      ],
      "execution_count": null,
      "outputs": []
    }
  ]
}